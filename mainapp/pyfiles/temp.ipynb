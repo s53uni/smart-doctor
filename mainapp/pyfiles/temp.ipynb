{
 "cells": [
  {
   "cell_type": "code",
   "execution_count": null,
   "id": "0c022022",
   "metadata": {},
   "outputs": [],
   "source": [
    "import glob\n",
    "files = glob.glob('C:/edu_busan_202305/14_해커톤/*.pickle')\n",
    "files"
   ]
  },
  {
   "cell_type": "code",
   "execution_count": null,
   "id": "72a41d2c",
   "metadata": {},
   "outputs": [
    {
     "data": {
      "text/plain": [
       "array([[ 0.18251958, -0.62187576, -0.71791404, ..., -0.25355768,\n",
       "         0.7647256 , -0.21914655],\n",
       "       [ 1.4571764 , -0.62187576,  5.7941604 , ..., -0.25355768,\n",
       "        -0.44340006, -0.04430315],\n",
       "       [ 1.4571764 , -0.62187576,  5.7941604 , ..., -0.25355768,\n",
       "        -0.44340006, -0.04430315],\n",
       "       ...,\n",
       "       [ 0.553416  ,  0.30872086,  0.79098135, ..., -0.25355768,\n",
       "        -0.7454313 , -0.3745629 ],\n",
       "       [-0.7565036 , -1.5524724 , -0.24142078, ..., -0.25355768,\n",
       "        -0.1413686 , -0.35513586],\n",
       "       [-0.7565036 ,  0.09158143,  0.671858  , ..., -0.25355768,\n",
       "         0.16066268, -0.25800064]], dtype=float32)"
      ]
     },
     "metadata": {},
     "output_type": "display_data"
    }
   ],
   "source": [
    "i = 1\n",
    "for file in files:\n",
    "    with open(file,'rb') as f:\n",
    "        globals()['model{}'.format(i)] = pickle.load(f)\n",
    "    i += 1\n",
    "    \n",
    "with open('model_scaler.pickle', 'rb') as f: \n",
    "    scaler = pickle.load(f)"
   ]
  },
  {
   "cell_type": "code",
   "execution_count": 217,
   "id": "7923c679",
   "metadata": {},
   "outputs": [],
   "source": [
    "result_bmi = 40\n",
    "result_map = 3\n",
    "result_aaa = 4\n",
    "blood_sugar = 250.0\n",
    "total_cholesterol = 119.0\n",
    "triglycerides = 265.0\n",
    "hemoglobin = 15.7\n",
    "proteinuria = 1.0\n",
    "serum_creatinine = 0\n",
    "gamma_gtp = 35.0\n",
    "city = 42\n",
    "sex = 2\n",
    "\n",
    "col = ['bmi', 'map', '식전혈당(공복혈당)', '총 콜레스테롤', '트리글리세라이드',\n",
    "       '혈색소', '요단백', '혈청크레아티닌', '감마 지티피']\n",
    "\n",
    "df1 = pd.DataFrame([result_bmi, result_map, result_aaa, blood_sugar, total_cholesterol,\n",
    "                    triglycerides, hemoglobin, proteinuria, gamma_gtp]).transpose()\n",
    "df1.columns = col\n",
    "\n",
    "df1 = pd.DataFrame(scaler.transform(df1), columns=col)\n",
    "\n",
    "col2 = ['시도코드', '성별코드', 'ast_alt2']\n",
    "\n",
    "df2 = pd.DataFrame([city, sex, serum_creatinine]).transpose()\n",
    "\n",
    "df2.columns = col2\n",
    "\n",
    "df = pd.concat([df1, df2], axis=1)\n",
    "\n",
    "for j, kcd in zip(range(1,6), ['당뇨병', '고혈압', '감기', '기관지염', '경추간판장애']):\n",
    "    a = globals()['model{}'.format(j)].predict_proba(df)[0][1]\n",
    "    print('{}이(가) 발병할 확률은 {:.3f}%입니다 '.format(kcd, a*100))"
   ]
  }
 ],
 "metadata": {
  "kernelspec": {
   "display_name": "nltk_kernel",
   "language": "python",
   "name": "nltk"
  },
  "language_info": {
   "codemirror_mode": {
    "name": "ipython",
    "version": 3
   },
   "file_extension": ".py",
   "mimetype": "text/x-python",
   "name": "python",
   "nbconvert_exporter": "python",
   "pygments_lexer": "ipython3",
   "version": "3.9.17"
  },
  "toc": {
   "base_numbering": 1,
   "nav_menu": {},
   "number_sections": true,
   "sideBar": true,
   "skip_h1_title": false,
   "title_cell": "Table of Contents",
   "title_sidebar": "Contents",
   "toc_cell": false,
   "toc_position": {},
   "toc_section_display": true,
   "toc_window_display": false
  }
 },
 "nbformat": 4,
 "nbformat_minor": 5
}
